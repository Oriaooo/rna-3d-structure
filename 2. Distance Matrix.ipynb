{
 "cells": [
  {
   "cell_type": "markdown",
   "metadata": {},
   "source": [
    "# The Distance Matrix\n",
    "\n",
    "The pairwise distance matrix $D$ is a $n \\times n$ matrix, $n$ being the number of atoms of the RNA molecule, where each $d_{i, j}$ represents the distance between atoms $i$ and $j$. It is thus symmetrical."
   ]
  },
  {
   "cell_type": "code",
   "execution_count": 14,
   "metadata": {},
   "outputs": [
    {
     "data": {
      "text/plain": [
       "(1473, 1473)"
      ]
     },
     "execution_count": 14,
     "metadata": {},
     "output_type": "execute_result"
    }
   ],
   "source": [
    "from Bio.PDB import PDBParser\n",
    "from utils import get_coordinates_from_structure\n",
    "from sklearn.metrics import pairwise_distances\n",
    "\n",
    "structure = PDBParser().get_structure(\"4xw7\", \"4xw7.pdb\")\n",
    "atoms = get_coordinates_from_structure(structure)\n",
    "\n",
    "d = pairwise_distances(atoms)\n",
    "d.shape"
   ]
  },
  {
   "cell_type": "markdown",
   "metadata": {},
   "source": [
    "Since using all the atoms in the molecule results in really large matrices, nucleotides are often reduced in coarse-grained representations. The number and postions of each bead can vary, sometimes it is one or multiple atoms, sometimes the centroïd.\n",
    "\n",
    "Using only the phosphate atom in the molecule, we have :"
   ]
  },
  {
   "cell_type": "code",
   "execution_count": 15,
   "metadata": {},
   "outputs": [
    {
     "data": {
      "text/plain": [
       "(65, 65)"
      ]
     },
     "execution_count": 15,
     "metadata": {},
     "output_type": "execute_result"
    }
   ],
   "source": [
    "atoms = get_coordinates_from_structure(structure, [\"P\"])\n",
    "\n",
    "d = pairwise_distances(atoms)\n",
    "d.shape"
   ]
  }
 ],
 "metadata": {
  "kernelspec": {
   "display_name": "Python 3",
   "language": "python",
   "name": "python3"
  },
  "language_info": {
   "codemirror_mode": {
    "name": "ipython",
    "version": 3
   },
   "file_extension": ".py",
   "mimetype": "text/x-python",
   "name": "python",
   "nbconvert_exporter": "python",
   "pygments_lexer": "ipython3",
   "version": "3.12.7"
  }
 },
 "nbformat": 4,
 "nbformat_minor": 2
}
